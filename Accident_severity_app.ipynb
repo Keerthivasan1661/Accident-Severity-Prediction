{
 "cells": [
  {
   "cell_type": "code",
   "execution_count": 1,
   "id": "d3d55c7d",
   "metadata": {},
   "outputs": [],
   "source": [
    "from joblib import dump\n",
    "from joblib import load\n",
    "import streamlit as st\n",
    "from streamlit_jupyter import StreamlitPatcher, tqdm\n",
    "StreamlitPatcher().jupyter()"
   ]
  },
  {
   "cell_type": "code",
   "execution_count": 2,
   "id": "58cf632a",
   "metadata": {},
   "outputs": [],
   "source": [
    "model = load('Accident_severity.joblib')"
   ]
  },
  {
   "cell_type": "code",
   "execution_count": 3,
   "id": "2cd82554",
   "metadata": {},
   "outputs": [
    {
     "data": {
      "text/markdown": [
       "# Accident Severity Prediction"
      ],
      "text/plain": [
       "<IPython.core.display.Markdown object>"
      ]
     },
     "metadata": {},
     "output_type": "display_data"
    },
    {
     "data": {
      "text/markdown": [
       "## Enter accident attributes"
      ],
      "text/plain": [
       "<IPython.core.display.Markdown object>"
      ]
     },
     "metadata": {},
     "output_type": "display_data"
    },
    {
     "data": {
      "application/vnd.jupyter.widget-view+json": {
       "model_id": "25e138f03b0f4f459083ff51ced8a67e",
       "version_major": 2,
       "version_minor": 0
      },
      "text/plain": [
       "Dropdown(description='Days of week', options=('Friday', 'Thursday', 'Wednesday', 'Tuesday', 'Monday', 'Saturda…"
      ]
     },
     "metadata": {},
     "output_type": "display_data"
    },
    {
     "data": {
      "application/vnd.jupyter.widget-view+json": {
       "model_id": "4a35486c1d9248d9a5df7316f9f9d4cf",
       "version_major": 2,
       "version_minor": 0
      },
      "text/plain": [
       "Dropdown(description='Casualty Sex', options=('Male', 'Female', 'Na'), value='Male')"
      ]
     },
     "metadata": {},
     "output_type": "display_data"
    },
    {
     "data": {
      "application/vnd.jupyter.widget-view+json": {
       "model_id": "6c9377392cbb4e6fb07b2407e6251e8b",
       "version_major": 2,
       "version_minor": 0
      },
      "text/plain": [
       "Dropdown(description='Light Conditions', options=('Daylight', 'Darkness - lights Lit', 'Darkness - lights UnLi…"
      ]
     },
     "metadata": {},
     "output_type": "display_data"
    },
    {
     "name": "stderr",
     "output_type": "stream",
     "text": [
      "2024-06-13 12:33:09.408 WARNING streamlit.runtime.state.session_state_proxy: Session state does not function when running a script without `streamlit run`\n",
      "2024-06-13 12:33:10.124 \n",
      "  \u001b[33m\u001b[1mWarning:\u001b[0m to view this Streamlit app on a browser, run it with the following\n",
      "  command:\n",
      "\n",
      "    streamlit run C:\\Users\\KEERTHIVASAN\\anaconda3\\Lib\\site-packages\\ipykernel_launcher.py [ARGUMENTS]\n"
     ]
    },
    {
     "data": {
      "text/markdown": [
       "## Prediction Result"
      ],
      "text/plain": [
       "<IPython.core.display.Markdown object>"
      ]
     },
     "metadata": {},
     "output_type": "display_data"
    }
   ],
   "source": [
    "# Create a Streamlit app\n",
    "st.title(\"Accident Severity Prediction\")\n",
    "\n",
    "# Input fields for feature values on the main screen\n",
    "st.header(\"Enter accident attributes\")\n",
    "days_of_week = st.selectbox(\"Days of week\", ('Friday','Thursday','Wednesday','Tuesday','Monday','Saturday','Sunday'))\n",
    "casualty_sex = st.selectbox(\"Casualty Sex\", ('Male', 'Female', 'Na'))\n",
    "light = st.selectbox(\"Light Conditions\", ('Daylight', 'Darkness - lights Lit','Darkness - lights UnLit','Darkness - No lights',))\n",
    "casualty_age_band = st.number_input(\"Casualty age\", min_value=0, max_value=200, value=50)\n",
    "number_of_vehicles = st.number_input(\"Vehicles invloved\", min_value=0, max_value=10000, value=0)\n",
    "\n",
    "# Map input values to numeric using the label mapping\n",
    "label_mapping = {'Friday':0,'Thursday':4,'Wednesday':6,'Tuesday':5,'Monday':1,'Saturday':2,'Sunday':3,\n",
    "                'Male':1,'Female':0,'Na':2,\n",
    "                'Daylight':3,'Darkness - lights Lit':0,'Darkness - No lights':2,'Darkness - lights UnLit':1}\n",
    "\n",
    "days_of_week = label_mapping[days_of_week]\n",
    "casualty_sex = label_mapping[casualty_sex]\n",
    "light = label_mapping[light]\n",
    "\n",
    "# Make a prediction using the model\n",
    "prediction = model.predict([[days_of_week, casualty_sex, light, casualty_age_band, number_of_vehicles]])\n",
    "\n",
    "# Display the prediction result on the main screen\n",
    "st.header(\"Prediction Result\")\n",
    "if prediction[0] == 0:\n",
    "    st.success(\"This person is slightly injured.\")\n",
    "elif prediction[0] == 1:\n",
    "    st.error(\"This person is seriously injured.\")\n",
    "else:\n",
    "    st.error(\"This person has a fatal injury.\")"
   ]
  }
 ],
 "metadata": {
  "kernelspec": {
   "display_name": "Python 3 (ipykernel)",
   "language": "python",
   "name": "python3"
  },
  "language_info": {
   "codemirror_mode": {
    "name": "ipython",
    "version": 3
   },
   "file_extension": ".py",
   "mimetype": "text/x-python",
   "name": "python",
   "nbconvert_exporter": "python",
   "pygments_lexer": "ipython3",
   "version": "3.11.5"
  }
 },
 "nbformat": 4,
 "nbformat_minor": 5
}
